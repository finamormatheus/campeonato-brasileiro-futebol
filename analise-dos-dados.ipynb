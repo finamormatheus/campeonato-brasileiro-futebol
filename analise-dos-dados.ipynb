{
 "cells": [
  {
   "cell_type": "code",
   "execution_count": 62,
   "metadata": {},
   "outputs": [],
   "source": [
    "import numpy as np\n",
    "import pandas as pd\n",
    "import matplotlib.pyplot as plt"
   ]
  },
  {
   "cell_type": "code",
   "execution_count": 30,
   "metadata": {},
   "outputs": [],
   "source": [
    "data = pd.read_csv('Resultados.csv')"
   ]
  },
  {
   "cell_type": "code",
   "execution_count": 32,
   "metadata": {},
   "outputs": [
    {
     "name": "stdout",
     "output_type": "stream",
     "text": [
      "183 105 92\n"
     ]
    }
   ],
   "source": [
    "data_2012 = data[data['ano'] == 2012]\n",
    "\n",
    "mand_victory_2012 = 0\n",
    "draw_2012 = 0\n",
    "vis_victory_2012 = 0\n",
    "\n",
    "for i in range(0,380):\n",
    "    if data_2012['golMandante'][i] > data_2012['golVisitante'][i]:\n",
    "        mand_victory_2012 += 1\n",
    "    elif data_2012['golMandante'][i] == data_2012['golVisitante'][i]:\n",
    "        draw_2012 += 1\n",
    "    elif data_2012['golMandante'][i] < data_2012['golVisitante'][i]:\n",
    "        vis_victory_2012 += 1\n",
    "        \n",
    "print(mand_victory_2012, draw_2012, vis_victory_2012)"
   ]
  },
  {
   "cell_type": "code",
   "execution_count": 52,
   "metadata": {},
   "outputs": [
    {
     "name": "stdout",
     "output_type": "stream",
     "text": [
      "184 108 88\n"
     ]
    }
   ],
   "source": [
    "data_2013 = data[data['ano'] == 2013]\n",
    "\n",
    "mand_victory_2013 = 0\n",
    "draw_2013 = 0\n",
    "vis_victory_2013 = 0\n",
    "\n",
    "for i in range(380,380*2):\n",
    "    if data_2013['golMandante'][i] > data_2013['golVisitante'][i]:\n",
    "        mand_victory_2013 += 1\n",
    "    elif data_2013['golMandante'][i] == data_2013['golVisitante'][i]:\n",
    "        draw_2013 += 1\n",
    "    elif data_2013['golMandante'][i] < data_2013['golVisitante'][i]:\n",
    "        vis_victory_2013 += 1\n",
    "        \n",
    "print(mand_victory_2013, draw_2013, vis_victory_2013)"
   ]
  },
  {
   "cell_type": "code",
   "execution_count": 53,
   "metadata": {},
   "outputs": [
    {
     "name": "stdout",
     "output_type": "stream",
     "text": [
      "197 92 91\n"
     ]
    }
   ],
   "source": [
    "data_2014 = data[data['ano'] == 2014]\n",
    "\n",
    "mand_victory_2014 = 0\n",
    "draw_2014 = 0\n",
    "vis_victory_2014 = 0\n",
    "\n",
    "for i in range(380*2,380*3):\n",
    "    if data_2014['golMandante'][i] > data_2014['golVisitante'][i]:\n",
    "        mand_victory_2014 += 1\n",
    "    elif data_2014['golMandante'][i] == data_2014['golVisitante'][i]:\n",
    "        draw_2014 += 1\n",
    "    elif data_2014['golMandante'][i] < data_2014['golVisitante'][i]:\n",
    "        vis_victory_2014 += 1\n",
    "        \n",
    "print(mand_victory_2014, draw_2014, vis_victory_2014)"
   ]
  },
  {
   "cell_type": "code",
   "execution_count": 54,
   "metadata": {},
   "outputs": [
    {
     "name": "stdout",
     "output_type": "stream",
     "text": [
      "200 91 89\n"
     ]
    }
   ],
   "source": [
    "data_2015 = data[data['ano'] == 2015]\n",
    "\n",
    "mand_victory_2015 = 0\n",
    "draw_2015 = 0\n",
    "vis_victory_2015 = 0\n",
    "\n",
    "for i in range(380*3,380*4):\n",
    "    if data_2015['golMandante'][i] > data_2015['golVisitante'][i]:\n",
    "        mand_victory_2015 += 1\n",
    "    elif data_2015['golMandante'][i] == data_2015['golVisitante'][i]:\n",
    "        draw_2015 += 1\n",
    "    elif data_2015['golMandante'][i] < data_2015['golVisitante'][i]:\n",
    "        vis_victory_2015 += 1\n",
    "        \n",
    "print(mand_victory_2015, draw_2015, vis_victory_2015)"
   ]
  },
  {
   "cell_type": "code",
   "execution_count": 55,
   "metadata": {},
   "outputs": [
    {
     "name": "stdout",
     "output_type": "stream",
     "text": [
      "202 94 83\n"
     ]
    }
   ],
   "source": [
    "data_2016 = data[data['ano'] == 2016]\n",
    "\n",
    "mand_victory_2016 = 0\n",
    "draw_2016 = 0\n",
    "vis_victory_2016 = 0\n",
    "\n",
    "for i in range(380*4,380*5-1):\n",
    "    if data_2016['golMandante'][i] > data_2016['golVisitante'][i]:\n",
    "        mand_victory_2016 += 1\n",
    "    elif data_2016['golMandante'][i] == data_2016['golVisitante'][i]:\n",
    "        draw_2016 += 1\n",
    "    elif data_2016['golMandante'][i] < data_2016['golVisitante'][i]:\n",
    "        vis_victory_2016 += 1\n",
    "        \n",
    "print(mand_victory_2016, draw_2016, vis_victory_2016)"
   ]
  },
  {
   "cell_type": "code",
   "execution_count": 59,
   "metadata": {},
   "outputs": [
    {
     "name": "stdout",
     "output_type": "stream",
     "text": [
      "167 103 110\n"
     ]
    }
   ],
   "source": [
    "data_2017 = data[data['ano'] == 2017]\n",
    "\n",
    "mand_victory_2017 = 0\n",
    "draw_2017 = 0\n",
    "vis_victory_2017 = 0\n",
    "\n",
    "for i in range(380*5-1,380*6-1):\n",
    "    if data_2017['golMandante'][i] > data_2017['golVisitante'][i]:\n",
    "        mand_victory_2017 += 1\n",
    "    elif data_2017['golMandante'][i] == data_2017['golVisitante'][i]:\n",
    "        draw_2017 += 1\n",
    "    elif data_2017['golMandante'][i] < data_2017['golVisitante'][i]:\n",
    "        vis_victory_2017 += 1\n",
    "        \n",
    "print(mand_victory_2017, draw_2017, vis_victory_2017)"
   ]
  },
  {
   "cell_type": "code",
   "execution_count": 60,
   "metadata": {},
   "outputs": [
    {
     "name": "stdout",
     "output_type": "stream",
     "text": [
      "202 110 68\n"
     ]
    }
   ],
   "source": [
    "data_2018 = data[data['ano'] == 2018]\n",
    "\n",
    "mand_victory_2018 = 0\n",
    "draw_2018 = 0\n",
    "vis_victory_2018 = 0\n",
    "\n",
    "for i in range(380*6-1,380*7-1):\n",
    "    if data_2018['golMandante'][i] > data_2018['golVisitante'][i]:\n",
    "        mand_victory_2018 += 1\n",
    "    elif data_2018['golMandante'][i] == data_2018['golVisitante'][i]:\n",
    "        draw_2018 += 1\n",
    "    elif data_2018['golMandante'][i] < data_2018['golVisitante'][i]:\n",
    "        vis_victory_2018 += 1\n",
    "        \n",
    "print(mand_victory_2018, draw_2018, vis_victory_2018)"
   ]
  },
  {
   "cell_type": "code",
   "execution_count": 61,
   "metadata": {},
   "outputs": [
    {
     "name": "stdout",
     "output_type": "stream",
     "text": [
      "184 98 98\n"
     ]
    }
   ],
   "source": [
    "data_2019 = data[data['ano'] == 2019]\n",
    "\n",
    "mand_victory_2019 = 0\n",
    "draw_2019 = 0\n",
    "vis_victory_2019 = 0\n",
    "\n",
    "for i in range(380*7-1,380*8-1):\n",
    "    if data_2019['golMandante'][i] > data_2019['golVisitante'][i]:\n",
    "        mand_victory_2019 += 1\n",
    "    elif data_2019['golMandante'][i] == data_2019['golVisitante'][i]:\n",
    "        draw_2019 += 1\n",
    "    elif data_2019['golMandante'][i] < data_2019['golVisitante'][i]:\n",
    "        vis_victory_2019 += 1\n",
    "        \n",
    "print(mand_victory_2019, draw_2019, vis_victory_2019)"
   ]
  },
  {
   "cell_type": "code",
   "execution_count": 69,
   "metadata": {},
   "outputs": [
    {
     "data": {
      "image/png": "[encoded data removed]",
      "text/plain": [
       "<Figure size 432x288 with 1 Axes>"
      ]
     },
     "metadata": {
      "needs_background": "light"
     },
     "output_type": "display_data"
    }
   ],
   "source": [
    "vis_victory = [vis_victory_2012, vis_victory_2013, vis_victory_2014, vis_victory_2015, vis_victory_2016, vis_victory_2017, vis_victory_2018, vis_victory_2019]\n",
    "years = [2012, 2013, 2014, 2015, 2016, 2017, 2018, 2019]\n",
    "\n",
    "plt.plot(years, vis_victory, '-o')\n",
    "plt.xlabel('Ano')\n",
    "plt.ylabel('Número de vitórias dos visitantes')\n",
    "plt.show()"
   ]
  }
 ],
 "metadata": {
  "kernelspec": {
   "display_name": "Python 3",
   "language": "python",
   "name": "python3"
  },
  "language_info": {
   "codemirror_mode": {
    "name": "ipython",
    "version": 3
   },
   "file_extension": ".py",
   "mimetype": "text/x-python",
   "name": "python",
   "nbconvert_exporter": "python",
   "pygments_lexer": "ipython3",
   "version": "3.7.5"
  }
 },
 "nbformat": 4,
 "nbformat_minor": 4
}
